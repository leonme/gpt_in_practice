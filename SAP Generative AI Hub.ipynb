{
 "cells": [
  {
   "cell_type": "markdown",
   "id": "f2f9afe8-c389-467a-9f16-adc608761915",
   "metadata": {},
   "source": [
    "# Setup SAP Generative AI Hub\n",
    "To install the generative-ai-hub-sdk package in your system, open your terminal or command prompt and run the following command.\n",
    "\n",
    "The source guideline is in: https://developers.sap.com/tutorials/ai-core-generative-ai.html#b3d2f5d8-842d-4dcc-822e-fa67f92eceac\n",
    "\n",
    "## SAP generative AI hub SDK\n",
    "generative-ai-hub-sdk document: https://pypi.org/project/generative-ai-hub-sdk/\n",
    "\n",
    "Generative AI Help doc: https://help.sap.com/docs/sap-ai-core/sap-ai-core-service-guide/models-and-scenarios-in-generative-ai-hub?version=CLOUD\n"
   ]
  },
  {
   "cell_type": "code",
   "execution_count": null,
   "id": "64a6dbd3-7ff9-4032-8182-20f682600ede",
   "metadata": {},
   "outputs": [],
   "source": [
    "!pip install generative-ai-hub-sdk"
   ]
  },
  {
   "cell_type": "markdown",
   "id": "e99479b7-8b1d-4b79-a0d9-413c0cabf401",
   "metadata": {},
   "source": [
    "Now you have generative-ai-hub-sdk installed in your system.\n",
    "\n",
    "You have to configure proxy modules to use the large language models.\n",
    "\n",
    "We recommend setting these values as environment variables for AI core creds via config file. The default path for this file is ~/.aicore/config.json.\n",
    "\n",
    "open Notepad and replace the values in below json with your AI core Service keys that you downloaded from BTP and press Command + S to save file. A pop up will appear on the screen where navigate to ~/.aicore/ and location and save the file as config.json\n",
    "\n",
    "```json\n",
    "{\n",
    "  \"AICORE_AUTH_URL\": \"https://* * * .authentication.sap.hana.ondemand.com\",\n",
    "  \"AICORE_CLIENT_ID\": \"* * * \",\n",
    "  \"AICORE_CLIENT_SECRET\": \"* * * \",\n",
    "  \"AICORE_RESOURCE_GROUP\": \"* * * \",\n",
    "  \"AICORE_BASE_URL\": \"https://api.ai.* * *.cfapps.sap.hana.ondemand.com/v2\"\n",
    "}\n",
    "\n",
    "```"
   ]
  },
  {
   "cell_type": "code",
   "execution_count": 2,
   "id": "461be56a-92a2-4b04-9e16-51f978e2e895",
   "metadata": {},
   "outputs": [],
   "source": [
    "model = \"gpt-35-turbo\""
   ]
  },
  {
   "cell_type": "markdown",
   "id": "f96ecb78-ecc1-4013-9a13-3a91e9b8ff2f",
   "metadata": {},
   "source": [
    "You can use the gen_ai_hub for prompting large language models such as gpt-3.5, gpt-4 and falcon-40b.\n",
    "\n",
    "Open a python programming environment of your choice and run the following code we deployed these models at step 3."
   ]
  },
  {
   "cell_type": "markdown",
   "id": "c90af4e6-9bfc-4719-8271-d374a4a7ff64",
   "metadata": {
    "jp-MarkdownHeadingCollapsed": true
   },
   "source": [
    "# First GenAI Example"
   ]
  },
  {
   "cell_type": "code",
   "execution_count": 3,
   "id": "0cbda0f1-ad1e-41f0-8edb-3540436f04c9",
   "metadata": {},
   "outputs": [
    {
     "data": {
      "text/plain": [
       "'Generative AI refers to a type of artificial intelligence that is capable of generating new and original content, such as images, text, music, or even videos. It involves training a model on a large dataset and then using that model to generate new content that is similar to the training data. Generative AI models can learn patterns, styles, and structures from the data and generate new content that is often indistinguishable from human-created content. Examples of generative AI models include deep learning models like Generative Adversarial Networks (GANs) and Variational Autoencoders (VAEs).'"
      ]
     },
     "execution_count": 3,
     "metadata": {},
     "output_type": "execute_result"
    }
   ],
   "source": [
    "### example in https://developers.sap.com/tutorials/ai-core-generative-ai.html#4ca592b5-fa97-449b-960c-4aef0da73437\n",
    "from gen_ai_hub.proxy.langchain.init_models import init_llm\n",
    "from gen_ai_hub.proxy.langchain.init_models import init_embedding_model\n",
    "\n",
    "llm = init_llm(model, temperature=0., max_tokens=256)\n",
    "# embeddings = init_embedding_model('text-embedding-ada-002')\n",
    "llm.invoke('What is generative AI?').content\n"
   ]
  },
  {
   "cell_type": "markdown",
   "id": "851f5af6-deea-450b-b08f-aae8ca5434be",
   "metadata": {
    "jp-MarkdownHeadingCollapsed": true
   },
   "source": [
    "# More Complex Example: Text Summary\n",
    "\n",
    "This example tasks the LLM with condensing and summarizing a given text. The text, clearly demarcated with triple backticks, is expected to be distilled into a concise summary of no more than 30 words. The focus is on extracting the most salient points and presenting them in a succinct manner, ensuring that the essence of the original content is retained without excessive verbosity. This format is designed to challenge the LLM’s capability to discern key details and convey them efficiently. For this demo we have taken 2 pages from SAP annual report 2 on Independent Assurance Practitioner’s Report by KPMG.\n",
    "\n",
    "open Jupter notebook or python IDE and run the following code to infrence the model using GPT-3.5-turbo .\n"
   ]
  },
  {
   "cell_type": "code",
   "execution_count": 5,
   "id": "f3e6bb26-f499-438c-b579-4740647aeae9",
   "metadata": {},
   "outputs": [
    {
     "data": {
      "text/plain": [
       "\"KPMG has conducted a limited assurance engagement on SAP SE's non-financial statement for the period from January 1 to December 31, 2022. They found no material misstatements.\""
      ]
     },
     "execution_count": 5,
     "metadata": {},
     "output_type": "execute_result"
    }
   ],
   "source": [
    "from gen_ai_hub.proxy.langchain.init_models import init_llm\n",
    "\n",
    "prompt = \"\"\"Your task is to generate a short summary of a text.\n",
    "Summarize the text below, in at most 30 words. \n",
    "\n",
    "Review: Independent Assurance Practitioner's Report\n",
    "To the Supervisory Board of SAP SE, Walldorf\n",
    "We have performed a limited assurance engagement on the non-financial statement of SAP SE (further \"Company\" or \"SAP\") and on the non-financial statement of the parent company that is combined with it, which are published in the Management Report, (further \"combined non-financial statement\") for the period from January 1 to December 31, 2022.\n",
    "Responsibilities of Management\n",
    "Management of the company is responsible for the preparation of the combined non-financial statement in accordance with Sections 315c in conjunction with 289c to 289e HGB [\"Handelsgesetzbuch\": German Commercial Code] and Article 8 of REGULATION (EU) 2020/852 OF THE EUROPEAN PARLIAMENT AND OF THE COUNCIL of June 18, 2020 on establishing a framework to facilitate sustainable investment and amending Regulation (EU) 2019/2088 (hereinafter the \"EU Taxonomy Regulation\") and the Delegated Acts adopted thereunder, as well as for making their own interpretation of the wording and terms contained in the EU Taxonomy Regulation and the delegated acts adopted thereunder as set out in section \"Sustainable Finance: EU Taxonomy Disclosures\" of the combined non-financial statement.\n",
    "This responsibility includes the selection and application of appropriate non-financial reporting methods and making assumptions and estimates about individual non-financial disclosures of the group that are reasonable in the circumstances. Furthermore, management is responsible for such internal control as they consider necessary to enable the preparation of a combined non-financial statement that is free from material misstatement, whether due to fraud or error.\n",
    "The EU Taxonomy Regulation and the Delegated Acts issued thereunder contain wording and terms that are still subject to considerable interpretation uncertainties and for which clarifications have not yet been published in every case. Therefore, management has disclosed their interpretation of the EU Taxonomy Regulation and the Delegated Acts adopted thereunder in section \"Sustainable Finance: EU Taxonomy Disclosures\" of the combined non-financial statement. They are responsible for the defensibility of this interpretation. Due to the immanent risk that indeterminate legal terms may be interpreted differently, the legal conformity of the interpretation is subject to uncertainties.\n",
    "Independence and Quality Assurance of the Assurance Practitioner's firm\n",
    "We have complied with the independence and quality assurance requirements set out in the national legal provisions and professional pronouncements, in particular the Professional Code for German Public Auditors and Chartered Accountants (in Germany) and the quality assurance standard of the German Institute of Public Auditors (Institut der Wirtschaftsprufer, IDW) regarding quality assurance requirements in audit practice (IDW QS 1).\n",
    "Responsibility of the Assurance Practitioner\n",
    "Our responsibility is to express a conclusion with limited assurance on the combined non-financial statement based on our assurance engagement.\n",
    "We conducted our assurance engagement in accordance with International Standard on Assurance Engagements (ISAE) 3000 (Revised): \"Assurance Engagements other than Audits or Reviews of\n",
    "41/335\n",
    "  SAP Integrated Report 2022\n",
    " To Our Stakeholders\n",
    "    Combined Group Consolidated Financial Further Information on Management Report Statements IFRS Sustainability\n",
    "  Additional Information\n",
    "  Historical Financial Information\" issued by the IAASB. This standard requires that we plan and perform the assurance engagement to obtain limited assurance about whether any matters have come to our attention that cause us to believe that the company's non-financial statement, is not prepared, in all material respects, in accordance with Sections 315c in conjunction with 289c to 289e HGB and the EU Taxonomy Regulation and the Delegated Acts issued thereunder as well as the interpretation by management disclosed in section \"Sustainable Finance: EU Taxonomy Disclosures\" of the combined non-financial statement. We do not, however, issue a separate conclusion for each disclosure.\n",
    "In a limited assurance engagement, the procedures performed are less extensive than in a reasonable assurance engagement, and accordingly, a substantially lower level of assurance is obtained. The selection of the assurance procedures is subject to the professional judgment of the assurance practitioner.\n",
    "In the course of our assurance engagement we have, among other things, performed the following assurance procedures and other activities:\n",
    "– Interviewing employees responsible for the materiality analysis at group level in order to obtain an understanding on the approach for identifying key issues and related reporting limits of SAP,\n",
    "– Carrying out a risk assessment, inclusive of media analysis, on relevant information on sustainability performance of SAP in the reporting period,\n",
    "– Assessing the design and implementation of systems and processes for identifying, handling, and monitoring information on environmental, employee and social matters, human rights and combating corruption and bribery, including the consolidation of data,\n",
    "– Interviewing staff on group level, who are responsible for the disclosures on concepts, due diligence processes, results and risks, the performance of internal control activities and the consolidation of the disclosures,\n",
    "– Inspecting selected internal and external documents,\n",
    "– Analytically assessing the data and trends of the quantitative information, which is reported on group level of all locations,\n",
    "– Evaluating the local data collection, validation, and reporting processes as well as the reliability of the reported data by means of a sampling survey at two locations,\n",
    "– Interviewing of responsible staff on group level to obtain an understanding of the approach to identify relevant economic activities in accordance with the EU taxonomy,\n",
    "– Evaluating the design and implementation of systems and procedures for identifying, processing, and monitoring information on turnover, capital expenditures and operating expenditures for the taxonomy-relevant economic activities for the first two environmental objectives climate change mitigation and climate change adaptation,\n",
    "– Evaluating the data collection, validation, and reporting processes, as well as the reliability of the reported data for the taxonomy-aligned economic activities in conjunction with the assessment of the technical evaluation criteria for the substantial contribution, the fulfilment of the DNSH-criteria and the documentation of the minimum safeguard,\n",
    "– Assessment of the overall presentation of the disclosures.\n",
    "In determining the disclosures in accordance with Article 8 of the EU Taxonomy Regulation, management is required to interpret undefined legal terms. Due to the immanent risk that undefined legal terms may be interpreted differently, the legal conformity of their interpretation and, accordingly, our assurance engagement thereon are subject to uncertainties.\n",
    "Assurance Opinion\n",
    "Based on the assurance procedures performed and the evidence obtained, nothing has come to our attention that causes us to believe that the combined non-financial statement of SAP SE, Walldorf for\n",
    "42/335\n",
    "\n",
    " SAP Integrated Report 2022\n",
    "To Our Stakeholders\n",
    "Combined Group Consolidated Financial Further Information on Management Report Statements IFRS Sustainability\n",
    "Additional Information\n",
    "the period from January 1 to December 31, 2022 has not been prepared, in all material respects, in accordance with Sections 315c in conjunction with 289c to 289e HGB and the EU Taxonomy Regulation and the Delegated Acts issued thereunder as well as the interpretation by management as disclosed in section \"Sustainable Finance: EU Taxonomy Disclosures\" of the combined non-financial statement.\n",
    "Restriction of Use\n",
    "This assurance report is solely addressed to SAP SE, Walldorf.\n",
    "Our assignment for SAP SE, Walldorf and professional liability is governed by the General Engagement Terms for Wirtschaftsprufer (German Public Auditors) and Wirtschaftsprufungs- gesellschaften (German Public Audit Firms) (Allgemeine Auftragsbedingungen fur Wirtschaftsprufer und Wirtschaftsprufungsgesellschaften) in the version dated January 1, 2017 (https://www.kpmg.de/bescheinigungen/lib/aab_english.pdf). By reading and using the information contained in this assurance report, each recipient confirms having taken note of provisions of the General Engagement Terms (including the limitation of our liability for negligence to EUR 4 million as stipulated in No. 9) and accepts the validity of the attached General Engagement Terms with respect to us.\n",
    "Mannheim, den 22. Februar 2023\n",
    "KPMG AG Wirtschaftsprufungsgesellschaft\n",
    "Beyer\n",
    "Wirtschaftsprufer [German Public Auditor]\n",
    "Wiegand Wirtschaftsprufer [German Public Auditor]\"\"\"\n",
    "\n",
    "llm = init_llm(model, temperature=0., max_tokens=256)\n",
    "llm.invoke(prompt).content"
   ]
  },
  {
   "cell_type": "markdown",
   "id": "42de0efa-4f3a-4e3a-b00f-56f92e4279cb",
   "metadata": {},
   "source": [
    "# Example: Questioning and Answering\n",
    "\n",
    "This example instructs the LLM to formulate a concise response to a specific question, with the context provided for reference. The LLM’s answer should be encapsulated within triple backticks, ensuring a clear distinction between the question and the response. If the LLM is uncertain about the correct answer based on the provided context, it is instructed to reply with “Unsure about answer”, offering a clear acknowledgment of uncertainty rather than providing potentially inaccurate information. Where we took a part of memo by Christian Klein from SAP Annual report.\n",
    "\n",
    "Similarly change the value for prompt and re-run the cell in jupter notebook."
   ]
  },
  {
   "cell_type": "code",
   "execution_count": null,
   "id": "fc215c37-630d-4d4a-8387-28daf07f9320",
   "metadata": {},
   "outputs": [],
   "source": []
  },
  {
   "cell_type": "code",
   "execution_count": 9,
   "id": "8c52a0cc-8676-4185-9f25-939057d90c2d",
   "metadata": {},
   "outputs": [
    {
     "data": {
      "text/plain": [
       "'SAP performed well in 2022, meeting all of their outlook metrics and achieving strong financial results.'"
      ]
     },
     "execution_count": 9,
     "metadata": {},
     "output_type": "execute_result"
    }
   ],
   "source": [
    "from gen_ai_hub.proxy.langchain.init_models import init_llm\n",
    "\n",
    "prompt = \"\"\"Answer the question  based on the context below. Keep the answer short and concise. \n",
    "Respond \"Unsure about answer\" if not sure about the answer.\n",
    "Context: Dear Fellow Shareholders,\n",
    "It's hard to summarize the year 2022 in a few words – as the pandemic continued, the world also faced new and unexpected challenges, such as the terrible war in Ukraine, that hugely impacted all of our lives. We have faced conflicts and geopolitical tensions, climate change, the energy crisis, inflation, and volatile markets. Yet, once again, we have seen solidarity in times of crisis – people coming together to provide support to those in need when it mattered most. Despite the ongoing uncertainties in the world, SAP has remained in a strong position.\n",
    "2022 marked the 50th anniversary of SAP, which we celebrated together with our customers, partners, and colleagues across the world. Five decades ago, our founders set out to redefine business software and in doing so, forever changed the way the world runs. Their innovative thinking, pioneering spirit, and drive laid the foundation for the rise of SAP – and they are still the basis for our success today, as we are carrying their legacy forward to drive positive change for our planet and its people – something that has never been more relevant or important than today.\n",
    "Our hearts remain with the people impacted by the war in Ukraine. As announced, SAP has stopped all sales in Russia and Belarus, and we are in the process of a total withdrawal from these markets. For 2023, while business wind-down continues, our focus is on further reducing the remaining SAP footprint in Russia. We hope for the swift restoration of peace and will continue to help those affected by this war.\n",
    "7/335\n",
    "  SAP Integrated Report 2022\n",
    " To Our Stakeholders\n",
    "    Combined Group Consolidated Financial Further Information on Management Report Statements IFRS Sustainability\n",
    "  Additional Information\n",
    "  The last year was a stark reminder that no one business, government, or society can tackle the greatest challenges of our time alone. For that, a change is needed, and technology plays a key role in finding solutions to our global challenges.\n",
    "Over two years ago, we embarked on our transformation journey to move SAP towards a cloud company. This, together with our vision to enable every organization and every industry to become a network of intelligent, sustainable enterprises, is perfectly aligned with the challenges our customers face. From increasing speed and agility, building transparent and resilient supply chains, and recording, reporting, and acting on sustainability, our solutions provide the value our customers need:\n",
    "– With RISE with SAP, we enable organizations to become agile, intelligent enterprises.\n",
    "– With the SAP Business Network, we connect millions of companies, allowing organizations to\n",
    "benefit from connected networks.\n",
    "– With our SAP sustainability solutions, we enable organizations to truly operate sustainably.\n",
    "Looking at our financial numbers, we met all of our outlook metrics in 2022. Our strong full-year 2022 results at a glance:\n",
    "– Cloud revenue continued to be our main growth driver, increasing by 24%1.\n",
    "– Current cloud backlog increased by 24%1.\n",
    "– Total revenue grew 5%1.\n",
    "– IFRS Operating profit was flat, while non-IFRS operating profit decreased by 7%1.\n",
    "– Free cash flow was €4.35 billion.\n",
    "2022 was a volatile year on the market, with technology stocks particularly hard hit. Our shares were not immune from this overall trend. Our share price decreased 22.8% in 2022, below the DAX, which lost 12.4%, but better than the NASDAQ 100, which decreased 33% over the course of the year. We want our shareholders to participate in our success. Therefore, we have proposed an annual dividend of €2.05 per share2,  an increase of approximately 5% over the prior year's regular dividend.\n",
    "Customer Net Promoter Score (NPS) decreased 7 points year over year to 3 in 2022, hitting the lower end of the revised outlook range. SAP's Employee Engagement Index decreased 3 percentage points to 80%, a continued high level of engagement at the low end of the revised outlook range. The software as a service-industry scores overall have declined over the past few years of the pandemic. SAP continues to get feedback about needed improvements around pricing increases, licensing structure, product-related topics, support, service and stability of account team relationships. This type of transparent feedback and accountability helps provide us with the information to better focus investments and further improve our customer relationships. SAP's retention rate was 92.3% (2021: 92.8%). Further, the proportion of women in management increased to 29.4% (2021: 28.3%) and we also reached 35% of women in the workforce. Net carbon emissions continued to decrease, at 85 kilotons in 2022, down 25 kt year over year.\n",
    "In addition to driving our ESG goals internally, we also take our wider social and environmental responsibility very seriously:\n",
    "– In total, SAP donated more than €4.2 million to support Ukraine in cooperation with organizations such as UNICEF, UNHCR, and the German Red Cross. This includes our employee donation campaign which became SAP's largest employee donation campaign to date.\n",
    "– SAP extended its partnership with UNICEF through Generation Unlimited (GenU), focusing on employability. The partnership also supports SAP Educate to Employ, a new program educating\n",
    "1 At constant currencies\n",
    "2 Pending approval of Annual General Meeting of Shareholders\n",
    " 8/335\n",
    "\n",
    "  SAP Integrated Report 2022\n",
    " To Our Stakeholders\n",
    "    Combined Group Consolidated Financial Further Information on Management Report Statements IFRS Sustainability\n",
    "  Additional Information\n",
    "  youth in need on soft skills, foundational knowledge, and SAP skills to enable a pathway to a successful career in the SAP ecosystem.\n",
    "– Together with partners, we launched the TRANSFORM Support Hub offering virtual pro bono consulting opportunities worldwide, connecting SAP employees to social enterprises.\n",
    "Net-net: We believe that together with our customers, colleagues, and partners around the world, we can turn the world's greatest challenges into opportunities for a prosperous and greener future. 2022 was one of the most important years in our history. As we head into 2023, we are committed to further optimizing and improving our business. We are deepening our focus on delivering lifetime value to current and new customers in the cloud and on high-growth opportunities where SAP can lead. Across SAP, we are laying the foundation for SAP's ongoing success, expanding our position as the #1 Enterprise Application company on the planet, powered by our leading platform. \n",
    "Finally, I want to express my deepest thanks for your continuous trust in SAP. I certainly look back on 2022 with pride and gratitude for the many ways SAP's teams around the world are making a difference. I'm very much looking forward to 2023, and the great achievements our over 100,000 colleagues will continue to deliver as we pursue our vision to enable every organization and every industry to become a network of intelligent, sustainable enterprises.\n",
    "Sincerely,\n",
    "Christian Klein CEO, SAP SE\n",
    "9/335\n",
    "\n",
    "  \n",
    " SAP Integrated Report 2022\n",
    "To Our Stakeholders\n",
    "Combined Group Consolidated Financial Further Information on Management Report Statements IFRS Sustainability\n",
    "Additional Information\n",
    "SAP Executive Board\n",
    "Question: How does SAP perform in 2022 year?\n",
    "\"\"\"\n",
    "\n",
    "llm = init_llm(model, temperature=0., max_tokens=256)\n",
    "llm.invoke(prompt).content\n"
   ]
  },
  {
   "cell_type": "markdown",
   "id": "90120725-0954-4bdf-b377-27a9d556dc22",
   "metadata": {},
   "source": [
    "# My Exercises"
   ]
  },
  {
   "cell_type": "markdown",
   "id": "b158baae-ebb9-43b2-a2f3-26cedc39930c",
   "metadata": {},
   "source": [
    "## 3. 初识LangChain｜你的瑞士军刀"
   ]
  },
  {
   "cell_type": "markdown",
   "id": "51d0471d-1d94-4227-b5ed-627c692dae20",
   "metadata": {},
   "source": [
    "### 提示词模版"
   ]
  },
  {
   "cell_type": "code",
   "execution_count": null,
   "id": "7c9ebe39-de4d-41aa-81f9-378b4468099b",
   "metadata": {},
   "outputs": [],
   "source": [
    "model = \"gpt-35-turbo\""
   ]
  },
  {
   "cell_type": "code",
   "execution_count": 22,
   "id": "f29daf5a-e3c5-4d11-8a13-5cb36ce50880",
   "metadata": {},
   "outputs": [
    {
     "data": {
      "text/plain": [
       "'Rainbow Threads'"
      ]
     },
     "execution_count": 22,
     "metadata": {},
     "output_type": "execute_result"
    }
   ],
   "source": [
    "from langchain import PromptTemplate, OpenAI, LLMChain\n",
    "from gen_ai_hub.proxy.langchain.init_models import init_llm\n",
    "\n",
    "from langchain.chat_models import AzureChatOpenAI\n",
    "from langchain.chat_models import ChatOpenAI #直接访问OpenAI的GPT服务\n",
    "\n",
    "prompt_template = \"\"\"\n",
    "What is a good name for a company that makes {product}? And only return the best one.\n",
    "\"\"\"\n",
    "\n",
    "llm = init_llm(model, temperature=0.5, max_tokens=256)\n",
    "# llm.invoke(prompt_template).content\n",
    "\n",
    "#llm = ChatOpenAI(model_name=\"gpt-4\", temperature=0) #直接访问OpenAI的GPT服务\n",
    "# llm = AzureChatOpenAI(deployment_name = deployment, model_name=model, temperature=0, max_tokens=200) # 通过Azure的OpenAI服务\n",
    "llm_chain = LLMChain(\n",
    "    llm=llm,\n",
    "    prompt=PromptTemplate.from_template(prompt_template)\n",
    ")\n",
    "llm_chain.run(\"colorful socks\")"
   ]
  },
  {
   "cell_type": "code",
   "execution_count": 24,
   "id": "4c581725-c980-47d6-8a04-f0cbc18185ab",
   "metadata": {},
   "outputs": [
    {
     "data": {
      "text/plain": [
       "[{'text': 'CloudOps'}, {'text': 'SilentSound'}, {'text': 'Rainbow Threads'}]"
      ]
     },
     "execution_count": 24,
     "metadata": {},
     "output_type": "execute_result"
    }
   ],
   "source": [
    "products = [{\"product\":\"'cloudnative devops platform'\"},\n",
    "            {\"product\":\"'Noise cancellation headphone'\"}, \n",
    "            {\"product\":\"colorful socks\"}]\n",
    "llm_chain.apply(products)"
   ]
  },
  {
   "cell_type": "markdown",
   "id": "6ddbdbba-e7e7-4ea1-b6bd-cae6f1f4d80d",
   "metadata": {},
   "source": [
    "### API调用链\n",
    "#### HTTP request chain"
   ]
  },
  {
   "cell_type": "code",
   "execution_count": 32,
   "id": "c453272e-e29c-4dc8-8f02-726d11ae9fbb",
   "metadata": {},
   "outputs": [],
   "source": [
    "from gen_ai_hub.proxy.langchain.init_models import init_llm\n",
    "from langchain import PromptTemplate, OpenAI, LLMChain\n",
    "from langchain.chains import LLMRequestsChain\n",
    "# from langchain.chat_models import AzureChatOpenAI\n",
    "# from langchain.chat_models import ChatOpenAI #直接访问OpenAI的GPT服务\n",
    "\n",
    "#llm = ChatOpenAI(model_name=\"gpt-4\", temperature=0) #直接访问OpenAI的GPT服务\n",
    "# llm = AzureChatOpenAI(deployment_name = deployment, model_name=model, temperature=0, max_tokens=200) #通过Azure的OpenAI服务\n",
    "llm = init_llm(model, temperature=0, max_tokens=256)\n",
    "\n",
    "def query_baidu(question):\n",
    "      template = \"\"\"Between >>> and <<< are the raw search result text from web.\n",
    "      Extract the answer to the question '{query}' or say \"not found\" if the information is not contained.\n",
    "      Use the format\n",
    "      Extracted:<answer or \"not found\">\n",
    "      >>> {requests_result} <<<\n",
    "      Extracted:\"\"\"\n",
    "\n",
    "      PROMPT = PromptTemplate(\n",
    "          input_variables=[\"query\", \"requests_result\"],\n",
    "          template=template,\n",
    "      )\n",
    "\n",
    "      inputs = {\n",
    "          \"query\": question,\n",
    "          \"url\": \"http://www.baidu.com/s?wd=\" + question.replace(\" \", \"+\")\n",
    "      }\n",
    "      requests_chain = LLMRequestsChain(llm_chain = LLMChain(llm=llm, prompt=PROMPT), output_key=\"query_info\", verbose=True)\n",
    "      res = requests_chain.run(inputs)\n",
    "      return res"
   ]
  },
  {
   "cell_type": "code",
   "execution_count": 33,
   "id": "7218799c-a099-4dec-b70a-c471db4e849d",
   "metadata": {},
   "outputs": [
    {
     "name": "stdout",
     "output_type": "stream",
     "text": [
      "\n",
      "\n",
      "\u001b[1m> Entering new LLMRequestsChain chain...\u001b[0m\n",
      "\n",
      "\u001b[1m> Finished chain.\u001b[0m\n"
     ]
    },
    {
     "data": {
      "text/plain": [
       "'not found'"
      ]
     },
     "execution_count": 33,
     "metadata": {},
     "output_type": "execute_result"
    }
   ],
   "source": [
    "query_baidu(\"今天北京天气？\")"
   ]
  }
 ],
 "metadata": {
  "kernelspec": {
   "display_name": "Python 3 (ipykernel)",
   "language": "python",
   "name": "python3"
  },
  "language_info": {
   "codemirror_mode": {
    "name": "ipython",
    "version": 3
   },
   "file_extension": ".py",
   "mimetype": "text/x-python",
   "name": "python",
   "nbconvert_exporter": "python",
   "pygments_lexer": "ipython3",
   "version": "3.11.6"
  }
 },
 "nbformat": 4,
 "nbformat_minor": 5
}
