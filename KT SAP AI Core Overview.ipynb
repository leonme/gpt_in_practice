{
 "cells": [
  {
   "cell_type": "code",
   "execution_count": null,
   "id": "32460aa3-305b-4cf9-8539-bc100d1bbc4c",
   "metadata": {},
   "outputs": [],
   "source": []
  }
 ],
 "metadata": {
  "kernelspec": {
   "display_name": "",
   "name": ""
  },
  "language_info": {
   "name": ""
  }
 },
 "nbformat": 4,
 "nbformat_minor": 5
}
